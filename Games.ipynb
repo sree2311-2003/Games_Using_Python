{
 "cells": [
  {
   "cell_type": "code",
   "execution_count": 3,
   "id": "b16a99c0-d2f4-47c2-8e2d-22a500927923",
   "metadata": {
    "collapsed": true,
    "jupyter": {
     "outputs_hidden": true
    }
   },
   "outputs": [
    {
     "name": "stdout",
     "output_type": "stream",
     "text": [
      "Welcome to Hangman!\n",
      "\n",
      "_ _ _ _ _ _ _ _ _ _ _\n",
      "Guessed letters: \n",
      "Lives left: 11\n"
     ]
    },
    {
     "name": "stdout",
     "output_type": "stream",
     "text": [
      "Guess a letter:  a\n"
     ]
    },
    {
     "name": "stdout",
     "output_type": "stream",
     "text": [
      "Good guess!\n",
      "\n",
      "_ _ _ _ _ a _ _ _ _ _\n",
      "Guessed letters: a\n",
      "Lives left: 11\n"
     ]
    },
    {
     "name": "stdout",
     "output_type": "stream",
     "text": [
      "Guess a letter:  a\n"
     ]
    },
    {
     "name": "stdout",
     "output_type": "stream",
     "text": [
      "You've already guessed that letter.\n",
      "\n",
      "_ _ _ _ _ a _ _ _ _ _\n",
      "Guessed letters: a\n",
      "Lives left: 11\n"
     ]
    },
    {
     "name": "stdout",
     "output_type": "stream",
     "text": [
      "Guess a letter:  a\n"
     ]
    },
    {
     "name": "stdout",
     "output_type": "stream",
     "text": [
      "You've already guessed that letter.\n",
      "\n",
      "_ _ _ _ _ a _ _ _ _ _\n",
      "Guessed letters: a\n",
      "Lives left: 11\n"
     ]
    },
    {
     "name": "stdout",
     "output_type": "stream",
     "text": [
      "Guess a letter:  a\n"
     ]
    },
    {
     "name": "stdout",
     "output_type": "stream",
     "text": [
      "You've already guessed that letter.\n",
      "\n",
      "_ _ _ _ _ a _ _ _ _ _\n",
      "Guessed letters: a\n",
      "Lives left: 11\n"
     ]
    },
    {
     "name": "stdout",
     "output_type": "stream",
     "text": [
      "Guess a letter:  a\n"
     ]
    },
    {
     "name": "stdout",
     "output_type": "stream",
     "text": [
      "You've already guessed that letter.\n",
      "\n",
      "_ _ _ _ _ a _ _ _ _ _\n",
      "Guessed letters: a\n",
      "Lives left: 11\n"
     ]
    },
    {
     "name": "stdout",
     "output_type": "stream",
     "text": [
      "Guess a letter:  a\n"
     ]
    },
    {
     "name": "stdout",
     "output_type": "stream",
     "text": [
      "You've already guessed that letter.\n",
      "\n",
      "_ _ _ _ _ a _ _ _ _ _\n",
      "Guessed letters: a\n",
      "Lives left: 11\n"
     ]
    },
    {
     "name": "stdout",
     "output_type": "stream",
     "text": [
      "Guess a letter:  a\n"
     ]
    },
    {
     "name": "stdout",
     "output_type": "stream",
     "text": [
      "You've already guessed that letter.\n",
      "\n",
      "_ _ _ _ _ a _ _ _ _ _\n",
      "Guessed letters: a\n",
      "Lives left: 11\n"
     ]
    },
    {
     "name": "stdout",
     "output_type": "stream",
     "text": [
      "Guess a letter:  a\n"
     ]
    },
    {
     "name": "stdout",
     "output_type": "stream",
     "text": [
      "You've already guessed that letter.\n",
      "\n",
      "_ _ _ _ _ a _ _ _ _ _\n",
      "Guessed letters: a\n",
      "Lives left: 11\n"
     ]
    },
    {
     "name": "stdout",
     "output_type": "stream",
     "text": [
      "Guess a letter:  b\n"
     ]
    },
    {
     "name": "stdout",
     "output_type": "stream",
     "text": [
      "Wrong guess.\n",
      "\n",
      "_ _ _ _ _ a _ _ _ _ _\n",
      "Guessed letters: a b\n",
      "Lives left: 10\n"
     ]
    },
    {
     "name": "stdout",
     "output_type": "stream",
     "text": [
      "Guess a letter:  c\n"
     ]
    },
    {
     "name": "stdout",
     "output_type": "stream",
     "text": [
      "Wrong guess.\n",
      "\n",
      "_ _ _ _ _ a _ _ _ _ _\n",
      "Guessed letters: a b c\n",
      "Lives left: 9\n"
     ]
    },
    {
     "name": "stdout",
     "output_type": "stream",
     "text": [
      "Guess a letter:  d\n"
     ]
    },
    {
     "name": "stdout",
     "output_type": "stream",
     "text": [
      "Wrong guess.\n",
      "\n",
      "_ _ _ _ _ a _ _ _ _ _\n",
      "Guessed letters: a b c d\n",
      "Lives left: 8\n"
     ]
    },
    {
     "name": "stdout",
     "output_type": "stream",
     "text": [
      "Guess a letter:  e\n"
     ]
    },
    {
     "name": "stdout",
     "output_type": "stream",
     "text": [
      "Wrong guess.\n",
      "\n",
      "_ _ _ _ _ a _ _ _ _ _\n",
      "Guessed letters: a b c d e\n",
      "Lives left: 7\n"
     ]
    },
    {
     "name": "stdout",
     "output_type": "stream",
     "text": [
      "Guess a letter:  f\n"
     ]
    },
    {
     "name": "stdout",
     "output_type": "stream",
     "text": [
      "Wrong guess.\n",
      "\n",
      "_ _ _ _ _ a _ _ _ _ _\n",
      "Guessed letters: a b c d e f\n",
      "Lives left: 6\n"
     ]
    },
    {
     "name": "stdout",
     "output_type": "stream",
     "text": [
      "Guess a letter:  g\n"
     ]
    },
    {
     "name": "stdout",
     "output_type": "stream",
     "text": [
      "Good guess!\n",
      "\n",
      "_ _ _ g _ a _ _ _ _ g\n",
      "Guessed letters: a b c d e f g\n",
      "Lives left: 6\n"
     ]
    },
    {
     "name": "stdout",
     "output_type": "stream",
     "text": [
      "Guess a letter:  h\n"
     ]
    },
    {
     "name": "stdout",
     "output_type": "stream",
     "text": [
      "Wrong guess.\n",
      "\n",
      "_ _ _ g _ a _ _ _ _ g\n",
      "Guessed letters: a b c d e f g h\n",
      "Lives left: 5\n"
     ]
    },
    {
     "name": "stdout",
     "output_type": "stream",
     "text": [
      "Guess a letter:  i\n"
     ]
    },
    {
     "name": "stdout",
     "output_type": "stream",
     "text": [
      "Good guess!\n",
      "\n",
      "_ _ _ g _ a _ _ i _ g\n",
      "Guessed letters: a b c d e f g h i\n",
      "Lives left: 5\n"
     ]
    },
    {
     "name": "stdout",
     "output_type": "stream",
     "text": [
      "Guess a letter:  j\n"
     ]
    },
    {
     "name": "stdout",
     "output_type": "stream",
     "text": [
      "Wrong guess.\n",
      "\n",
      "_ _ _ g _ a _ _ i _ g\n",
      "Guessed letters: a b c d e f g h i j\n",
      "Lives left: 4\n"
     ]
    },
    {
     "name": "stdout",
     "output_type": "stream",
     "text": [
      "Guess a letter:  k\n"
     ]
    },
    {
     "name": "stdout",
     "output_type": "stream",
     "text": [
      "Wrong guess.\n",
      "\n",
      "_ _ _ g _ a _ _ i _ g\n",
      "Guessed letters: a b c d e f g h i j k\n",
      "Lives left: 3\n"
     ]
    },
    {
     "name": "stdout",
     "output_type": "stream",
     "text": [
      "Guess a letter:  l\n"
     ]
    },
    {
     "name": "stdout",
     "output_type": "stream",
     "text": [
      "Wrong guess.\n",
      "\n",
      "_ _ _ g _ a _ _ i _ g\n",
      "Guessed letters: a b c d e f g h i j k l\n",
      "Lives left: 2\n"
     ]
    },
    {
     "name": "stdout",
     "output_type": "stream",
     "text": [
      "Guess a letter:  m\n"
     ]
    },
    {
     "name": "stdout",
     "output_type": "stream",
     "text": [
      "Good guess!\n",
      "\n",
      "_ _ _ g _ a m m i _ g\n",
      "Guessed letters: a b c d e f g h i j k l m\n",
      "Lives left: 2\n"
     ]
    },
    {
     "name": "stdout",
     "output_type": "stream",
     "text": [
      "Guess a letter:  n\n"
     ]
    },
    {
     "name": "stdout",
     "output_type": "stream",
     "text": [
      "Good guess!\n",
      "\n",
      "_ _ _ g _ a m m i n g\n",
      "Guessed letters: a b c d e f g h i j k l m n\n",
      "Lives left: 2\n"
     ]
    },
    {
     "name": "stdout",
     "output_type": "stream",
     "text": [
      "Guess a letter:  o\n"
     ]
    },
    {
     "name": "stdout",
     "output_type": "stream",
     "text": [
      "Good guess!\n",
      "\n",
      "_ _ o g _ a m m i n g\n",
      "Guessed letters: a b c d e f g h i j k l m n o\n",
      "Lives left: 2\n"
     ]
    },
    {
     "name": "stdout",
     "output_type": "stream",
     "text": [
      "Guess a letter:  p\n"
     ]
    },
    {
     "name": "stdout",
     "output_type": "stream",
     "text": [
      "Good guess!\n",
      "\n",
      "p _ o g _ a m m i n g\n",
      "Guessed letters: a b c d e f g h i j k l m n o p\n",
      "Lives left: 2\n"
     ]
    },
    {
     "name": "stdout",
     "output_type": "stream",
     "text": [
      "Guess a letter:  q\n"
     ]
    },
    {
     "name": "stdout",
     "output_type": "stream",
     "text": [
      "Wrong guess.\n",
      "\n",
      "p _ o g _ a m m i n g\n",
      "Guessed letters: a b c d e f g h i j k l m n o p q\n",
      "Lives left: 1\n"
     ]
    },
    {
     "name": "stdout",
     "output_type": "stream",
     "text": [
      "Guess a letter:  r\n"
     ]
    },
    {
     "name": "stdout",
     "output_type": "stream",
     "text": [
      "Good guess!\n",
      "\n",
      "Congratulations! You guessed the word: programming\n"
     ]
    }
   ],
   "source": [
    "import random\n",
    "\n",
    "# List of words for the game\n",
    "word_list = [\"python\", \"hangman\", \"challenge\", \"programming\", \"developer\"]\n",
    "\n",
    "# Choose a random word\n",
    "chosen_word = random.choice(word_list)\n",
    "word_display = ['_'] * len(chosen_word)\n",
    "guessed_letters = set()\n",
    "lives = len(chosen_word)\n",
    "\n",
    "print(\"Welcome to Hangman!\")\n",
    "\n",
    "# Game loop\n",
    "while lives > 0 and '_' in word_display:\n",
    "    print(\"\\n\" + ' '.join(word_display))\n",
    "    print(f\"Guessed letters: {' '.join(sorted(guessed_letters))}\")\n",
    "    print(f\"Lives left: {lives}\")\n",
    "\n",
    "    guess = input(\"Guess a letter: \").lower()\n",
    "\n",
    "    if not guess.isalpha() or len(guess) != 1:\n",
    "        print(\"Please enter a single alphabetic character.\")\n",
    "        continue\n",
    "\n",
    "    if guess in guessed_letters:\n",
    "        print(\"You've already guessed that letter.\")\n",
    "        continue\n",
    "\n",
    "    guessed_letters.add(guess)\n",
    "\n",
    "    if guess in chosen_word:\n",
    "        print(\"Good guess!\")\n",
    "        for i, letter in enumerate(chosen_word):\n",
    "            if letter == guess:\n",
    "                word_display[i] = guess\n",
    "    else:\n",
    "        print(\"Wrong guess.\")\n",
    "        lives -= 1\n",
    "\n",
    "# End of game\n",
    "if '_' not in word_display:\n",
    "    print(\"\\nCongratulations! You guessed the word:\", chosen_word)\n",
    "else:\n",
    "    print(\"\\nGame Over! The word was:\", chosen_word)\n"
   ]
  },
  {
   "cell_type": "code",
   "execution_count": 2,
   "id": "a8a35f46-260e-4fd1-8065-61370d57c25a",
   "metadata": {},
   "outputs": [
    {
     "name": "stdout",
     "output_type": "stream",
     "text": [
      " 4\n"
     ]
    },
    {
     "name": "stdout",
     "output_type": "stream",
     "text": [
      "0 Q 0 0\n",
      "0 0 0 Q\n",
      "Q 0 0 0\n",
      "0 0 Q 0\n",
      "\n",
      "0 0 Q 0\n",
      "Q 0 0 0\n",
      "0 0 0 Q\n",
      "0 Q 0 0\n",
      "\n",
      "2\n"
     ]
    }
   ],
   "source": [
    "n = int(input())\n",
    "board = [[0] * n for _ in range(n)]\n",
    "solutions = []\n",
    "\n",
    "def attack(i, j):\n",
    "    for k in range(0, n):\n",
    "        if board[i][k] == 1 or board[k][j] == 1:\n",
    "            return True\n",
    "\n",
    "    for k in range(0, n):\n",
    "        for l in range(0, n):\n",
    "            if (k + l == i + j) or (k - l == i - j):\n",
    "                if board[k][l] == 1:\n",
    "                    return True\n",
    "    return False\n",
    "\n",
    "def queens(x):\n",
    "    if x == 0:\n",
    "        solution = []\n",
    "        for row in board:\n",
    "            solution.append(row[:])\n",
    "        if solution not in solutions:  # Check if the solution is not already in the list\n",
    "            solutions.append(solution)\n",
    "        return\n",
    "    \n",
    "    for i in range(0, n):\n",
    "        for j in range(0, n):\n",
    "            if not attack(i, j) and board[i][j] != 1:\n",
    "                board[i][j] = 1\n",
    "                if queens(x - 1)==True:\n",
    "                    return True\n",
    "                board[i][j] = 0\n",
    "\n",
    "queens(n)\n",
    "\n",
    "for solution in solutions:\n",
    "    for row in solution:\n",
    "        formatted_row = ' '.join('Q' if cell == 1 else '0' for cell in row)\n",
    "        print(formatted_row)\n",
    "    print()\n",
    "print(len(solutions))"
   ]
  },
  {
   "cell_type": "code",
   "execution_count": 8,
   "id": "599115ca-0fb3-48ec-8457-45166574e78a",
   "metadata": {},
   "outputs": [
    {
     "name": "stdout",
     "output_type": "stream",
     "text": [
      "\n",
      "|   |   |   |\n",
      "|   |   |   |\n",
      "|   |   |   |\n",
      "\n",
      "Your turn player 1\n"
     ]
    },
    {
     "name": "stdout",
     "output_type": "stream",
     "text": [
      "Enter your move (1-9):  1\n"
     ]
    },
    {
     "name": "stdout",
     "output_type": "stream",
     "text": [
      "\n",
      "| X |   |   |\n",
      "|   |   |   |\n",
      "|   |   |   |\n",
      "\n",
      "Your turn player 2\n"
     ]
    },
    {
     "name": "stdout",
     "output_type": "stream",
     "text": [
      "Enter your move (1-9):  1\n"
     ]
    },
    {
     "name": "stdout",
     "output_type": "stream",
     "text": [
      "That space is already taken! Try again.\n"
     ]
    },
    {
     "name": "stdout",
     "output_type": "stream",
     "text": [
      "Enter your move (1-9):  2\n"
     ]
    },
    {
     "name": "stdout",
     "output_type": "stream",
     "text": [
      "\n",
      "| X | O |   |\n",
      "|   |   |   |\n",
      "|   |   |   |\n",
      "\n",
      "Your turn player 1\n"
     ]
    },
    {
     "name": "stdout",
     "output_type": "stream",
     "text": [
      "Enter your move (1-9):  3\n"
     ]
    },
    {
     "name": "stdout",
     "output_type": "stream",
     "text": [
      "\n",
      "| X | O | X |\n",
      "|   |   |   |\n",
      "|   |   |   |\n",
      "\n",
      "Your turn player 2\n"
     ]
    },
    {
     "name": "stdout",
     "output_type": "stream",
     "text": [
      "Enter your move (1-9):  4\n"
     ]
    },
    {
     "name": "stdout",
     "output_type": "stream",
     "text": [
      "\n",
      "| X | O | X |\n",
      "| O |   |   |\n",
      "|   |   |   |\n",
      "\n",
      "Your turn player 1\n"
     ]
    },
    {
     "name": "stdout",
     "output_type": "stream",
     "text": [
      "Enter your move (1-9):  5\n"
     ]
    },
    {
     "name": "stdout",
     "output_type": "stream",
     "text": [
      "\n",
      "| X | O | X |\n",
      "| O | X |   |\n",
      "|   |   |   |\n",
      "\n",
      "Your turn player 2\n"
     ]
    },
    {
     "name": "stdout",
     "output_type": "stream",
     "text": [
      "Enter your move (1-9):  6\n"
     ]
    },
    {
     "name": "stdout",
     "output_type": "stream",
     "text": [
      "\n",
      "| X | O | X |\n",
      "| O | X | O |\n",
      "|   |   |   |\n",
      "\n",
      "Your turn player 1\n"
     ]
    },
    {
     "name": "stdout",
     "output_type": "stream",
     "text": [
      "Enter your move (1-9):  7\n"
     ]
    },
    {
     "name": "stdout",
     "output_type": "stream",
     "text": [
      "\n",
      "| X | O | X |\n",
      "| O | X | O |\n",
      "| X |   |   |\n",
      "\n",
      "X wins\n"
     ]
    }
   ],
   "source": [
    "board = [\" \" for x in range(9)]\n",
    "def printboard():\n",
    "    row1 = \"| {} | {} | {} |\".format(board[0], board[1], board[2])\n",
    "    row2 = \"| {} | {} | {} |\".format(board[3], board[4], board[5])\n",
    "    row3 = \"| {} | {} | {} |\".format(board[6], board[7], board[8])\n",
    "    print()\n",
    "    print(row1)\n",
    "    print(row2)\n",
    "    print(row3)\n",
    "    print()\n",
    "   \n",
    "def playermove(icon):\n",
    "    if icon == \"X\":\n",
    "        number = 1\n",
    "    elif icon == \"O\":\n",
    "        number = 2\n",
    "    print(\"Your turn player {}\".format(number))\n",
    "\n",
    "    while True:\n",
    "        choice = input(\"Enter your move (1-9): \").strip()\n",
    "\n",
    "        # Check if the input is a valid number and within the range\n",
    "        if choice.isdigit():\n",
    "            choice = int(choice)\n",
    "            if choice < 1 or choice > 9:\n",
    "                print(\"Invalid input. Choose a number from 1 to 9.\")\n",
    "            elif board[choice - 1] != \" \":\n",
    "                print(\"That space is already taken! Try again.\")\n",
    "            else:\n",
    "                board[choice - 1] = icon\n",
    "                break  # Exit the loop once a valid move is made\n",
    "        else:\n",
    "            print(\"Please enter a valid number from 1 to 9.\")\n",
    "\n",
    "        \n",
    "       \n",
    "def victory(icon):\n",
    "    if (board[0] == icon and board[1] == icon and board[2] == icon) or \\\n",
    "       (board[3] == icon and board[4] == icon and board[5] == icon) or \\\n",
    "       (board[6] == icon and board[7] == icon and board[8] == icon) or \\\n",
    "       (board[0] == icon and board[3] == icon and board[6] == icon) or \\\n",
    "       (board[1] == icon and board[4] == icon and board[7] == icon) or \\\n",
    "       (board[2] == icon and board[5] == icon and board[8] == icon) or \\\n",
    "       (board[0] == icon and board[4] == icon and board[8] == icon) or \\\n",
    "       (board[2] == icon and board[4] == icon and board[6] == icon):\n",
    "        return True\n",
    "    else:\n",
    "        return False\n",
    "       \n",
    "def draw():\n",
    "    if \" \" not in board:\n",
    "        return True\n",
    "    else:\n",
    "        return False\n",
    "\n",
    "while True:\n",
    "    printboard()\n",
    "    playermove(\"X\")\n",
    "    printboard()\n",
    "    if victory(\"X\"):\n",
    "        print(\"X wins\")\n",
    "        break\n",
    "    elif draw():\n",
    "        print(\"Draw\")\n",
    "        break\n",
    "   \n",
    "    playermove(\"O\")\n",
    "    if victory(\"O\"):\n",
    "        printboard()\n",
    "        print(\"O wins\")\n",
    "        break\n",
    "    elif draw():\n",
    "        print(\"Draw!\")\n",
    "        break"
   ]
  },
  {
   "cell_type": "code",
   "execution_count": null,
   "id": "c8bd9e43-d51e-4d5c-9d31-e057141569d4",
   "metadata": {},
   "outputs": [],
   "source": []
  }
 ],
 "metadata": {
  "kernelspec": {
   "display_name": "Python 3 (ipykernel)",
   "language": "python",
   "name": "python3"
  },
  "language_info": {
   "codemirror_mode": {
    "name": "ipython",
    "version": 3
   },
   "file_extension": ".py",
   "mimetype": "text/x-python",
   "name": "python",
   "nbconvert_exporter": "python",
   "pygments_lexer": "ipython3",
   "version": "3.12.7"
  }
 },
 "nbformat": 4,
 "nbformat_minor": 5
}
